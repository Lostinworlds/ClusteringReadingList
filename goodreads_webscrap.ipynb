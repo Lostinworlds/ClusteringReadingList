{
 "cells": [
  {
   "cell_type": "markdown",
   "id": "8345e2ba",
   "metadata": {},
   "source": [
    "# Webscraping Goodreads \n",
    "\n",
    "## Work Cited\n",
    "Code used is based on the following source:  \n",
    "mee-kell. “web-scraper.” web-scraper, 4 Jul 2021, https://github.com/mee-kell/web-scraper/blob/master/web-scraper.py. Accessed 14 May 2022."
   ]
  },
  {
   "cell_type": "markdown",
   "id": "571c37d6",
   "metadata": {},
   "source": [
    "## Import data and libraries"
   ]
  },
  {
   "cell_type": "code",
   "execution_count": 1,
   "id": "e432d8f6",
   "metadata": {},
   "outputs": [],
   "source": [
    "# libraries for web scraping\n",
    "from bs4 import BeautifulSoup\n",
    "import requests \n",
    "import urllib.request\n",
    "\n",
    "# timer to avoid any bans \n",
    "import time, random\n",
    "\n",
    "# library for data handling\n",
    "import pandas as pd"
   ]
  },
  {
   "cell_type": "markdown",
   "id": "63b0a7d3",
   "metadata": {},
   "source": [
    "## Establish variables and function to extract data"
   ]
  },
  {
   "cell_type": "code",
   "execution_count": 2,
   "id": "98cf80dd",
   "metadata": {},
   "outputs": [],
   "source": [
    "# variable to store the scraped data\n",
    "data = []"
   ]
  },
  {
   "cell_type": "code",
   "execution_count": 3,
   "id": "ba4e37db",
   "metadata": {},
   "outputs": [],
   "source": [
    "# Function to scrap data from the site\n",
    "def scrape_website (page_number): \n",
    "    page_num = str(page_number)\n",
    "    url = \"https://www.goodreads.com/list/show/264.Books_That_Everyone_Should_Read_At_Least_Once?page=\"+page_num\n",
    "    \n",
    "    time.sleep(random.randint(10, 600))\n",
    "    webpage = requests.get(url)\n",
    "    page_soup = BeautifulSoup(webpage.text, \"html.parser\")\n",
    "    containers = page_soup.findAll(\"tr\", {\"itemtype\": \"http://schema.org/Book\"})\n",
    "\n",
    "    for container in containers:\n",
    "        title = container.find(\"a\", {\"class\": \"bookTitle\"}).text.strip()\n",
    "        title = title.replace(\",\", \"\")\n",
    "        author = container.find(\"a\", {\"class\": \"authorName\"}).text.strip()\n",
    "        image = container.find(\"img\", {\"class\": \"bookCover\"})[\"src\"]\n",
    "        rating = container.find(\"span\", {\"class\": \"minirating\"}).text.strip()\n",
    "        avg_rating = rating.split()[0]\n",
    "        ratings = rating.split()[4]\n",
    "        data.append((title, author,avg_rating, ratings))"
   ]
  },
  {
   "cell_type": "markdown",
   "id": "4aa8cf57",
   "metadata": {},
   "source": [
    "## Extact data for 50 pages"
   ]
  },
  {
   "cell_type": "code",
   "execution_count": 4,
   "id": "9716d82a",
   "metadata": {},
   "outputs": [],
   "source": [
    "# scrap 50 of 100 pages\n",
    "n = 50\n",
    "for page_number in range (1,n):\n",
    "    scrape_website(page_number)"
   ]
  },
  {
   "cell_type": "markdown",
   "id": "c42720da",
   "metadata": {},
   "source": [
    "## store data "
   ]
  },
  {
   "cell_type": "code",
   "execution_count": 5,
   "id": "12ebcb7a",
   "metadata": {},
   "outputs": [],
   "source": [
    "# convert data to DataFrame\n",
    "df = pd.DataFrame (data, columns =[\"title\", \"author\", \"avg_rating\", \"total_ratings\"])"
   ]
  },
  {
   "cell_type": "code",
   "execution_count": 6,
   "id": "a14d1a91",
   "metadata": {},
   "outputs": [
    {
     "data": {
      "text/html": [
       "<div>\n",
       "<style scoped>\n",
       "    .dataframe tbody tr th:only-of-type {\n",
       "        vertical-align: middle;\n",
       "    }\n",
       "\n",
       "    .dataframe tbody tr th {\n",
       "        vertical-align: top;\n",
       "    }\n",
       "\n",
       "    .dataframe thead th {\n",
       "        text-align: right;\n",
       "    }\n",
       "</style>\n",
       "<table border=\"1\" class=\"dataframe\">\n",
       "  <thead>\n",
       "    <tr style=\"text-align: right;\">\n",
       "      <th></th>\n",
       "      <th>title</th>\n",
       "      <th>author</th>\n",
       "      <th>avg_rating</th>\n",
       "      <th>total_ratings</th>\n",
       "    </tr>\n",
       "  </thead>\n",
       "  <tbody>\n",
       "    <tr>\n",
       "      <th>0</th>\n",
       "      <td>To Kill a Mockingbird</td>\n",
       "      <td>Harper Lee</td>\n",
       "      <td>4.27</td>\n",
       "      <td>5,260,972</td>\n",
       "    </tr>\n",
       "    <tr>\n",
       "      <th>1</th>\n",
       "      <td>Harry Potter and the Sorcerer's Stone (Harry P...</td>\n",
       "      <td>J.K. Rowling</td>\n",
       "      <td>4.48</td>\n",
       "      <td>8,496,025</td>\n",
       "    </tr>\n",
       "    <tr>\n",
       "      <th>2</th>\n",
       "      <td>Pride and Prejudice</td>\n",
       "      <td>Jane Austen</td>\n",
       "      <td>4.28</td>\n",
       "      <td>3,595,947</td>\n",
       "    </tr>\n",
       "    <tr>\n",
       "      <th>3</th>\n",
       "      <td>The Diary of a Young Girl</td>\n",
       "      <td>Anne Frank</td>\n",
       "      <td>4.17</td>\n",
       "      <td>3,236,081</td>\n",
       "    </tr>\n",
       "    <tr>\n",
       "      <th>4</th>\n",
       "      <td>Animal Farm</td>\n",
       "      <td>George Orwell</td>\n",
       "      <td>3.97</td>\n",
       "      <td>3,260,451</td>\n",
       "    </tr>\n",
       "  </tbody>\n",
       "</table>\n",
       "</div>"
      ],
      "text/plain": [
       "                                               title         author  \\\n",
       "0                              To Kill a Mockingbird     Harper Lee   \n",
       "1  Harry Potter and the Sorcerer's Stone (Harry P...   J.K. Rowling   \n",
       "2                                Pride and Prejudice    Jane Austen   \n",
       "3                          The Diary of a Young Girl     Anne Frank   \n",
       "4                                        Animal Farm  George Orwell   \n",
       "\n",
       "  avg_rating total_ratings  \n",
       "0       4.27     5,260,972  \n",
       "1       4.48     8,496,025  \n",
       "2       4.28     3,595,947  \n",
       "3       4.17     3,236,081  \n",
       "4       3.97     3,260,451  "
      ]
     },
     "execution_count": 6,
     "metadata": {},
     "output_type": "execute_result"
    }
   ],
   "source": [
    "#Check returned data\n",
    "df.head()"
   ]
  },
  {
   "cell_type": "code",
   "execution_count": 7,
   "id": "1b7005a3",
   "metadata": {},
   "outputs": [],
   "source": [
    "# store data as CSV\n",
    "df.to_csv(\"Books_That_Everyone_Should_Read_At_Least_Once1.csv\",index= False)"
   ]
  },
  {
   "cell_type": "code",
   "execution_count": null,
   "id": "a956a95a",
   "metadata": {},
   "outputs": [],
   "source": []
  }
 ],
 "metadata": {
  "kernelspec": {
   "display_name": "Python 3 (ipykernel)",
   "language": "python",
   "name": "python3"
  },
  "language_info": {
   "codemirror_mode": {
    "name": "ipython",
    "version": 3
   },
   "file_extension": ".py",
   "mimetype": "text/x-python",
   "name": "python",
   "nbconvert_exporter": "python",
   "pygments_lexer": "ipython3",
   "version": "3.9.7"
  }
 },
 "nbformat": 4,
 "nbformat_minor": 5
}
