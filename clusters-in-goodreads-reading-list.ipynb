{
 "cells": [
  {
   "cell_type": "code",
   "execution_count": null,
   "id": "0bb12d3c",
   "metadata": {
    "papermill": {
     "duration": 0.014886,
     "end_time": "2022-05-16T12:39:59.822989",
     "exception": false,
     "start_time": "2022-05-16T12:39:59.808103",
     "status": "completed"
    },
    "tags": []
   },
   "outputs": [],
   "source": []
  },
  {
   "cell_type": "code",
   "execution_count": null,
   "id": "811ec428",
   "metadata": {
    "papermill": {
     "duration": 0.012891,
     "end_time": "2022-05-16T12:39:59.849065",
     "exception": false,
     "start_time": "2022-05-16T12:39:59.836174",
     "status": "completed"
    },
    "tags": []
   },
   "outputs": [],
   "source": []
  },
  {
   "cell_type": "code",
   "execution_count": null,
   "id": "0fa96b76",
   "metadata": {
    "papermill": {
     "duration": 0.013209,
     "end_time": "2022-05-16T12:39:59.875396",
     "exception": false,
     "start_time": "2022-05-16T12:39:59.862187",
     "status": "completed"
    },
    "tags": []
   },
   "outputs": [],
   "source": []
  },
  {
   "cell_type": "code",
   "execution_count": 1,
   "id": "25e76b21",
   "metadata": {
    "_cell_guid": "b1076dfc-b9ad-4769-8c92-a6c4dae69d19",
    "_uuid": "8f2839f25d086af736a60e9eeb907d3b93b6e0e5",
    "execution": {
     "iopub.execute_input": "2022-05-16T12:39:59.904252Z",
     "iopub.status.busy": "2022-05-16T12:39:59.903672Z",
     "iopub.status.idle": "2022-05-16T12:40:02.635119Z",
     "shell.execute_reply": "2022-05-16T12:40:02.634149Z"
    },
    "papermill": {
     "duration": 2.74911,
     "end_time": "2022-05-16T12:40:02.637602",
     "exception": false,
     "start_time": "2022-05-16T12:39:59.888492",
     "status": "completed"
    },
    "tags": []
   },
   "outputs": [
    {
     "name": "stdout",
     "output_type": "stream",
     "text": [
      "/kaggle/input/goodreads-reading-list/Books_That_Everyone_Should_Read_At_Least_Once1.csv\n"
     ]
    }
   ],
   "source": [
    "# library for data handling\n",
    "import numpy as np \n",
    "import pandas as pd\n",
    "\n",
    "\n",
    "import os\n",
    "for dirname, _, filenames in os.walk('/kaggle/input'):\n",
    "    for filename in filenames:\n",
    "        print(os.path.join(dirname, filename))\n",
    "\n",
    "#import visualisation libraries\n",
    "import matplotlib.pyplot as plt\n",
    "import seaborn as sns\n",
    "%matplotlib inline\n",
    "\n",
    "import plotly.express as px\n",
    "\n",
    "#\n",
    "from sklearn.cluster import KMeans\n",
    "from sklearn import preprocessing\n"
   ]
  },
  {
   "cell_type": "code",
   "execution_count": 2,
   "id": "46a05a82",
   "metadata": {
    "execution": {
     "iopub.execute_input": "2022-05-16T12:40:02.668271Z",
     "iopub.status.busy": "2022-05-16T12:40:02.667977Z",
     "iopub.status.idle": "2022-05-16T12:40:02.700716Z",
     "shell.execute_reply": "2022-05-16T12:40:02.699847Z"
    },
    "papermill": {
     "duration": 0.051091,
     "end_time": "2022-05-16T12:40:02.702954",
     "exception": false,
     "start_time": "2022-05-16T12:40:02.651863",
     "status": "completed"
    },
    "tags": []
   },
   "outputs": [],
   "source": [
    "df = pd.read_csv(\"/kaggle/input/goodreads-reading-list/Books_That_Everyone_Should_Read_At_Least_Once1.csv\", index_col = False)"
   ]
  },
  {
   "cell_type": "code",
   "execution_count": 3,
   "id": "c5a06fb3",
   "metadata": {
    "execution": {
     "iopub.execute_input": "2022-05-16T12:40:02.731913Z",
     "iopub.status.busy": "2022-05-16T12:40:02.731604Z",
     "iopub.status.idle": "2022-05-16T12:40:02.749932Z",
     "shell.execute_reply": "2022-05-16T12:40:02.748946Z"
    },
    "papermill": {
     "duration": 0.035292,
     "end_time": "2022-05-16T12:40:02.752288",
     "exception": false,
     "start_time": "2022-05-16T12:40:02.716996",
     "status": "completed"
    },
    "tags": []
   },
   "outputs": [
    {
     "data": {
      "text/html": [
       "<div>\n",
       "<style scoped>\n",
       "    .dataframe tbody tr th:only-of-type {\n",
       "        vertical-align: middle;\n",
       "    }\n",
       "\n",
       "    .dataframe tbody tr th {\n",
       "        vertical-align: top;\n",
       "    }\n",
       "\n",
       "    .dataframe thead th {\n",
       "        text-align: right;\n",
       "    }\n",
       "</style>\n",
       "<table border=\"1\" class=\"dataframe\">\n",
       "  <thead>\n",
       "    <tr style=\"text-align: right;\">\n",
       "      <th></th>\n",
       "      <th>title</th>\n",
       "      <th>author</th>\n",
       "      <th>avg_rating</th>\n",
       "      <th>total_ratings</th>\n",
       "    </tr>\n",
       "  </thead>\n",
       "  <tbody>\n",
       "    <tr>\n",
       "      <th>0</th>\n",
       "      <td>To Kill a Mockingbird</td>\n",
       "      <td>Harper Lee</td>\n",
       "      <td>4.27</td>\n",
       "      <td>5,260,972</td>\n",
       "    </tr>\n",
       "    <tr>\n",
       "      <th>1</th>\n",
       "      <td>Harry Potter and the Sorcerer's Stone (Harry P...</td>\n",
       "      <td>J.K. Rowling</td>\n",
       "      <td>4.48</td>\n",
       "      <td>8,496,025</td>\n",
       "    </tr>\n",
       "    <tr>\n",
       "      <th>2</th>\n",
       "      <td>Pride and Prejudice</td>\n",
       "      <td>Jane Austen</td>\n",
       "      <td>4.28</td>\n",
       "      <td>3,595,947</td>\n",
       "    </tr>\n",
       "    <tr>\n",
       "      <th>3</th>\n",
       "      <td>The Diary of a Young Girl</td>\n",
       "      <td>Anne Frank</td>\n",
       "      <td>4.17</td>\n",
       "      <td>3,236,081</td>\n",
       "    </tr>\n",
       "    <tr>\n",
       "      <th>4</th>\n",
       "      <td>Animal Farm</td>\n",
       "      <td>George Orwell</td>\n",
       "      <td>3.97</td>\n",
       "      <td>3,260,451</td>\n",
       "    </tr>\n",
       "  </tbody>\n",
       "</table>\n",
       "</div>"
      ],
      "text/plain": [
       "                                               title         author  \\\n",
       "0                              To Kill a Mockingbird     Harper Lee   \n",
       "1  Harry Potter and the Sorcerer's Stone (Harry P...   J.K. Rowling   \n",
       "2                                Pride and Prejudice    Jane Austen   \n",
       "3                          The Diary of a Young Girl     Anne Frank   \n",
       "4                                        Animal Farm  George Orwell   \n",
       "\n",
       "  avg_rating total_ratings  \n",
       "0       4.27     5,260,972  \n",
       "1       4.48     8,496,025  \n",
       "2       4.28     3,595,947  \n",
       "3       4.17     3,236,081  \n",
       "4       3.97     3,260,451  "
      ]
     },
     "execution_count": 3,
     "metadata": {},
     "output_type": "execute_result"
    }
   ],
   "source": [
    "df.head()"
   ]
  },
  {
   "cell_type": "code",
   "execution_count": 4,
   "id": "8092fb62",
   "metadata": {
    "execution": {
     "iopub.execute_input": "2022-05-16T12:40:02.783454Z",
     "iopub.status.busy": "2022-05-16T12:40:02.782943Z",
     "iopub.status.idle": "2022-05-16T12:40:02.807250Z",
     "shell.execute_reply": "2022-05-16T12:40:02.805957Z"
    },
    "papermill": {
     "duration": 0.043602,
     "end_time": "2022-05-16T12:40:02.810275",
     "exception": false,
     "start_time": "2022-05-16T12:40:02.766673",
     "status": "completed"
    },
    "tags": []
   },
   "outputs": [
    {
     "name": "stdout",
     "output_type": "stream",
     "text": [
      "<class 'pandas.core.frame.DataFrame'>\n",
      "RangeIndex: 4900 entries, 0 to 4899\n",
      "Data columns (total 4 columns):\n",
      " #   Column         Non-Null Count  Dtype \n",
      "---  ------         --------------  ----- \n",
      " 0   title          4900 non-null   object\n",
      " 1   author         4900 non-null   object\n",
      " 2   avg_rating     4900 non-null   object\n",
      " 3   total_ratings  4900 non-null   object\n",
      "dtypes: object(4)\n",
      "memory usage: 153.2+ KB\n"
     ]
    }
   ],
   "source": [
    "df.info()"
   ]
  },
  {
   "cell_type": "code",
   "execution_count": 5,
   "id": "11dea633",
   "metadata": {
    "execution": {
     "iopub.execute_input": "2022-05-16T12:40:02.842596Z",
     "iopub.status.busy": "2022-05-16T12:40:02.841950Z",
     "iopub.status.idle": "2022-05-16T12:40:02.848233Z",
     "shell.execute_reply": "2022-05-16T12:40:02.847665Z"
    },
    "papermill": {
     "duration": 0.0245,
     "end_time": "2022-05-16T12:40:02.849948",
     "exception": false,
     "start_time": "2022-05-16T12:40:02.825448",
     "status": "completed"
    },
    "tags": []
   },
   "outputs": [
    {
     "data": {
      "text/plain": [
       "array(['4.27', '4.48', '4.28', '4.17', '3.97', '4.19', '4.32', '3.93',\n",
       "       '3.81', '4.51', '4.38', '4.14', '4.26', '3.69', '3.75', '4.62',\n",
       "       '4.13', '4.37', '4.12', '3.88', '3.98', '4.30', '4.58', '4.06',\n",
       "       '4.10', '4.35', '4.57', '4.42', '4.22', '4.03', '3.82', '3.90',\n",
       "       '4.24', '4.46', '4.23', '3.79', '4.07', '4.11', '4.25', '4.40',\n",
       "       '3.99', '4.31', '3.92', '3.86', '4.20', '3.84', '4.34', '4.09',\n",
       "       '3.43', '3.63', '4.05', 'really', '4.29', '4.43', '4.02', '3.89',\n",
       "       '4.08', '3.52', '4.01', '4.16', '4.33', '4.39', '4.18', '4.36',\n",
       "       '4.45', '4.44', '4.15', '3.83', '3.96', '4.55', '3.95', '3.85',\n",
       "       '3.87', '3.60', '4.49', '3.62', '4.60', '3.58', '3.78', '3.68',\n",
       "       '3.77', '3.91', '4.52', '3.66', '4.64', '4.21', '4.95', '4.04',\n",
       "       '3.71', '3.59', '3.80', '3.74', '3.72', '3.76', '3.64', '4.50',\n",
       "       '3.57', '4.47', '4.41', '3.55', '3.54', '3.46', '3.67', '4.59',\n",
       "       '3.94', '3.51', '4.73', '3.70', '4.54', '3.42', '3.50', '3.61',\n",
       "       '3.73', '3.28', '4.53', '4.76', '3.65', '3.45', '3.30', '3.53',\n",
       "       '3.49', '3.47', '4.79', '3.48', '3.12', '4.56', '3.56', '4.63',\n",
       "       '3.31', '3.40', '3.18', '3.41', '3.10', '3.21', '3.25', '3.37',\n",
       "       '3.44', '0.00', '3.39', '3.24', '4.77', '4.71', '4.70', '3.32',\n",
       "       '3.19', '4.88', '3.05', '4.65', '3.23', '4.61', '2.97', '4.69',\n",
       "       '3.17', '2.05', '4.72', '3.29', '3.38', '4.66', '3.27', '3.35',\n",
       "       '3.03', '3.26', '4.78', '4.84', '4.82', 'it', '3.20', '4.80',\n",
       "       '4.67', '4.75', '4.68', '3.16', 'liked', '4.90', '4.93', '4.83',\n",
       "       '3.22', '4.89', '3.11'], dtype=object)"
      ]
     },
     "execution_count": 5,
     "metadata": {},
     "output_type": "execute_result"
    }
   ],
   "source": [
    "df[\"avg_rating\"].unique()"
   ]
  },
  {
   "cell_type": "code",
   "execution_count": 6,
   "id": "8f3fbd89",
   "metadata": {
    "execution": {
     "iopub.execute_input": "2022-05-16T12:40:02.880464Z",
     "iopub.status.busy": "2022-05-16T12:40:02.879907Z",
     "iopub.status.idle": "2022-05-16T12:40:02.890665Z",
     "shell.execute_reply": "2022-05-16T12:40:02.889701Z"
    },
    "papermill": {
     "duration": 0.028392,
     "end_time": "2022-05-16T12:40:02.892755",
     "exception": false,
     "start_time": "2022-05-16T12:40:02.864363",
     "status": "completed"
    },
    "tags": []
   },
   "outputs": [],
   "source": [
    "df.drop(df[df[\"avg_rating\"]==\"really\"].index, axis =0, inplace = True)\n",
    "df.drop(df[df[\"avg_rating\"]==\"it\"].index, axis =0, inplace = True)\n",
    "df.drop(df[df[\"avg_rating\"]==\"liked\"].index, axis =0, inplace = True)\n"
   ]
  },
  {
   "cell_type": "code",
   "execution_count": null,
   "id": "267a7955",
   "metadata": {
    "execution": {
     "iopub.execute_input": "2022-05-16T12:17:07.786167Z",
     "iopub.status.busy": "2022-05-16T12:17:07.785807Z",
     "iopub.status.idle": "2022-05-16T12:17:07.810311Z",
     "shell.execute_reply": "2022-05-16T12:17:07.809386Z",
     "shell.execute_reply.started": "2022-05-16T12:17:07.786132Z"
    },
    "papermill": {
     "duration": 0.014814,
     "end_time": "2022-05-16T12:40:02.922726",
     "exception": false,
     "start_time": "2022-05-16T12:40:02.907912",
     "status": "completed"
    },
    "tags": []
   },
   "outputs": [],
   "source": []
  },
  {
   "cell_type": "code",
   "execution_count": 7,
   "id": "df6087a0",
   "metadata": {
    "execution": {
     "iopub.execute_input": "2022-05-16T12:40:02.954161Z",
     "iopub.status.busy": "2022-05-16T12:40:02.953646Z",
     "iopub.status.idle": "2022-05-16T12:40:02.964819Z",
     "shell.execute_reply": "2022-05-16T12:40:02.964096Z"
    },
    "papermill": {
     "duration": 0.028658,
     "end_time": "2022-05-16T12:40:02.966838",
     "exception": false,
     "start_time": "2022-05-16T12:40:02.938180",
     "status": "completed"
    },
    "tags": []
   },
   "outputs": [],
   "source": [
    "df[\"avg_rating\"] = df[\"avg_rating\"].str.replace(\",\",\"\").astype(float)\n",
    "df[\"total_ratings\"] = df[\"total_ratings\"].str.replace(\",\",\"\").astype(int)"
   ]
  },
  {
   "cell_type": "code",
   "execution_count": 8,
   "id": "69d48cc7",
   "metadata": {
    "execution": {
     "iopub.execute_input": "2022-05-16T12:40:02.998032Z",
     "iopub.status.busy": "2022-05-16T12:40:02.997537Z",
     "iopub.status.idle": "2022-05-16T12:40:03.016028Z",
     "shell.execute_reply": "2022-05-16T12:40:03.015348Z"
    },
    "papermill": {
     "duration": 0.036561,
     "end_time": "2022-05-16T12:40:03.017903",
     "exception": false,
     "start_time": "2022-05-16T12:40:02.981342",
     "status": "completed"
    },
    "tags": []
   },
   "outputs": [
    {
     "data": {
      "text/html": [
       "<div>\n",
       "<style scoped>\n",
       "    .dataframe tbody tr th:only-of-type {\n",
       "        vertical-align: middle;\n",
       "    }\n",
       "\n",
       "    .dataframe tbody tr th {\n",
       "        vertical-align: top;\n",
       "    }\n",
       "\n",
       "    .dataframe thead th {\n",
       "        text-align: right;\n",
       "    }\n",
       "</style>\n",
       "<table border=\"1\" class=\"dataframe\">\n",
       "  <thead>\n",
       "    <tr style=\"text-align: right;\">\n",
       "      <th></th>\n",
       "      <th>avg_rating</th>\n",
       "      <th>total_ratings</th>\n",
       "    </tr>\n",
       "  </thead>\n",
       "  <tbody>\n",
       "    <tr>\n",
       "      <th>count</th>\n",
       "      <td>4827.000000</td>\n",
       "      <td>4.827000e+03</td>\n",
       "    </tr>\n",
       "    <tr>\n",
       "      <th>mean</th>\n",
       "      <td>4.055297</td>\n",
       "      <td>1.452168e+05</td>\n",
       "    </tr>\n",
       "    <tr>\n",
       "      <th>std</th>\n",
       "      <td>0.277496</td>\n",
       "      <td>4.070778e+05</td>\n",
       "    </tr>\n",
       "    <tr>\n",
       "      <th>min</th>\n",
       "      <td>0.000000</td>\n",
       "      <td>0.000000e+00</td>\n",
       "    </tr>\n",
       "    <tr>\n",
       "      <th>25%</th>\n",
       "      <td>3.890000</td>\n",
       "      <td>7.373000e+03</td>\n",
       "    </tr>\n",
       "    <tr>\n",
       "      <th>50%</th>\n",
       "      <td>4.070000</td>\n",
       "      <td>3.868400e+04</td>\n",
       "    </tr>\n",
       "    <tr>\n",
       "      <th>75%</th>\n",
       "      <td>4.240000</td>\n",
       "      <td>1.203630e+05</td>\n",
       "    </tr>\n",
       "    <tr>\n",
       "      <th>max</th>\n",
       "      <td>4.950000</td>\n",
       "      <td>8.496025e+06</td>\n",
       "    </tr>\n",
       "  </tbody>\n",
       "</table>\n",
       "</div>"
      ],
      "text/plain": [
       "        avg_rating  total_ratings\n",
       "count  4827.000000   4.827000e+03\n",
       "mean      4.055297   1.452168e+05\n",
       "std       0.277496   4.070778e+05\n",
       "min       0.000000   0.000000e+00\n",
       "25%       3.890000   7.373000e+03\n",
       "50%       4.070000   3.868400e+04\n",
       "75%       4.240000   1.203630e+05\n",
       "max       4.950000   8.496025e+06"
      ]
     },
     "execution_count": 8,
     "metadata": {},
     "output_type": "execute_result"
    }
   ],
   "source": [
    "df.describe()"
   ]
  },
  {
   "cell_type": "code",
   "execution_count": 9,
   "id": "994b824b",
   "metadata": {
    "execution": {
     "iopub.execute_input": "2022-05-16T12:40:03.049494Z",
     "iopub.status.busy": "2022-05-16T12:40:03.049229Z",
     "iopub.status.idle": "2022-05-16T12:40:03.293557Z",
     "shell.execute_reply": "2022-05-16T12:40:03.292647Z"
    },
    "papermill": {
     "duration": 0.263377,
     "end_time": "2022-05-16T12:40:03.296335",
     "exception": false,
     "start_time": "2022-05-16T12:40:03.032958",
     "status": "completed"
    },
    "tags": []
   },
   "outputs": [
    {
     "data": {
      "text/plain": [
       "array([3, 3, 1, 1, 1], dtype=int32)"
      ]
     },
     "execution_count": 9,
     "metadata": {},
     "output_type": "execute_result"
    }
   ],
   "source": [
    "ratings = df[[\"avg_rating\",\"total_ratings\"]]\n",
    "kmeans = KMeans(4)\n",
    "kmeans.fit(ratings)\n",
    "\n",
    "clusters = kmeans.fit_predict(ratings)\n",
    "clusters[:5]"
   ]
  },
  {
   "cell_type": "code",
   "execution_count": 10,
   "id": "223be68f",
   "metadata": {
    "execution": {
     "iopub.execute_input": "2022-05-16T12:40:03.358270Z",
     "iopub.status.busy": "2022-05-16T12:40:03.357770Z",
     "iopub.status.idle": "2022-05-16T12:40:03.382507Z",
     "shell.execute_reply": "2022-05-16T12:40:03.381555Z"
    },
    "papermill": {
     "duration": 0.05963,
     "end_time": "2022-05-16T12:40:03.386055",
     "exception": false,
     "start_time": "2022-05-16T12:40:03.326425",
     "status": "completed"
    },
    "tags": []
   },
   "outputs": [
    {
     "data": {
      "text/html": [
       "<div>\n",
       "<style scoped>\n",
       "    .dataframe tbody tr th:only-of-type {\n",
       "        vertical-align: middle;\n",
       "    }\n",
       "\n",
       "    .dataframe tbody tr th {\n",
       "        vertical-align: top;\n",
       "    }\n",
       "\n",
       "    .dataframe thead th {\n",
       "        text-align: right;\n",
       "    }\n",
       "</style>\n",
       "<table border=\"1\" class=\"dataframe\">\n",
       "  <thead>\n",
       "    <tr style=\"text-align: right;\">\n",
       "      <th></th>\n",
       "      <th>title</th>\n",
       "      <th>author</th>\n",
       "      <th>avg_rating</th>\n",
       "      <th>total_ratings</th>\n",
       "      <th>group</th>\n",
       "    </tr>\n",
       "  </thead>\n",
       "  <tbody>\n",
       "    <tr>\n",
       "      <th>0</th>\n",
       "      <td>To Kill a Mockingbird</td>\n",
       "      <td>Harper Lee</td>\n",
       "      <td>4.27</td>\n",
       "      <td>5260972</td>\n",
       "      <td>3</td>\n",
       "    </tr>\n",
       "    <tr>\n",
       "      <th>1</th>\n",
       "      <td>Harry Potter and the Sorcerer's Stone (Harry P...</td>\n",
       "      <td>J.K. Rowling</td>\n",
       "      <td>4.48</td>\n",
       "      <td>8496025</td>\n",
       "      <td>3</td>\n",
       "    </tr>\n",
       "    <tr>\n",
       "      <th>2</th>\n",
       "      <td>Pride and Prejudice</td>\n",
       "      <td>Jane Austen</td>\n",
       "      <td>4.28</td>\n",
       "      <td>3595947</td>\n",
       "      <td>1</td>\n",
       "    </tr>\n",
       "    <tr>\n",
       "      <th>3</th>\n",
       "      <td>The Diary of a Young Girl</td>\n",
       "      <td>Anne Frank</td>\n",
       "      <td>4.17</td>\n",
       "      <td>3236081</td>\n",
       "      <td>1</td>\n",
       "    </tr>\n",
       "    <tr>\n",
       "      <th>4</th>\n",
       "      <td>Animal Farm</td>\n",
       "      <td>George Orwell</td>\n",
       "      <td>3.97</td>\n",
       "      <td>3260451</td>\n",
       "      <td>1</td>\n",
       "    </tr>\n",
       "  </tbody>\n",
       "</table>\n",
       "</div>"
      ],
      "text/plain": [
       "                                               title         author  \\\n",
       "0                              To Kill a Mockingbird     Harper Lee   \n",
       "1  Harry Potter and the Sorcerer's Stone (Harry P...   J.K. Rowling   \n",
       "2                                Pride and Prejudice    Jane Austen   \n",
       "3                          The Diary of a Young Girl     Anne Frank   \n",
       "4                                        Animal Farm  George Orwell   \n",
       "\n",
       "   avg_rating  total_ratings  group  \n",
       "0        4.27        5260972      3  \n",
       "1        4.48        8496025      3  \n",
       "2        4.28        3595947      1  \n",
       "3        4.17        3236081      1  \n",
       "4        3.97        3260451      1  "
      ]
     },
     "execution_count": 10,
     "metadata": {},
     "output_type": "execute_result"
    }
   ],
   "source": [
    "data_cluster = df.copy()\n",
    "data_cluster[\"group\"] = clusters\n",
    "data_cluster.head()"
   ]
  },
  {
   "cell_type": "code",
   "execution_count": 11,
   "id": "624802cb",
   "metadata": {
    "execution": {
     "iopub.execute_input": "2022-05-16T12:40:03.428148Z",
     "iopub.status.busy": "2022-05-16T12:40:03.427892Z",
     "iopub.status.idle": "2022-05-16T12:40:05.473528Z",
     "shell.execute_reply": "2022-05-16T12:40:05.471134Z"
    },
    "papermill": {
     "duration": 2.065471,
     "end_time": "2022-05-16T12:40:05.476692",
     "exception": false,
     "start_time": "2022-05-16T12:40:03.411221",
     "status": "completed"
    },
    "tags": []
   },
   "outputs": [],
   "source": [
    "wcss = []\n",
    "\n",
    "for i in range (1, 10):\n",
    "    kmeans = KMeans(i)\n",
    "    kmeans.fit(ratings)\n",
    "    wcss_result = kmeans.inertia_\n",
    "    wcss.append(wcss_result)"
   ]
  },
  {
   "cell_type": "code",
   "execution_count": 12,
   "id": "48d9d5fa",
   "metadata": {
    "execution": {
     "iopub.execute_input": "2022-05-16T12:40:05.526770Z",
     "iopub.status.busy": "2022-05-16T12:40:05.526458Z",
     "iopub.status.idle": "2022-05-16T12:40:05.786044Z",
     "shell.execute_reply": "2022-05-16T12:40:05.785247Z"
    },
    "papermill": {
     "duration": 0.283905,
     "end_time": "2022-05-16T12:40:05.788221",
     "exception": false,
     "start_time": "2022-05-16T12:40:05.504316",
     "status": "completed"
    },
    "tags": []
   },
   "outputs": [
    {
     "data": {
      "text/plain": [
       "[<matplotlib.lines.Line2D at 0x7f033894c5d0>]"
      ]
     },
     "execution_count": 12,
     "metadata": {},
     "output_type": "execute_result"
    },
    {
     "data": {
      "image/png": "[encoded data removed]",
      "text/plain": [
       "<Figure size 432x288 with 1 Axes>"
      ]
     },
     "metadata": {
      "needs_background": "light"
     },
     "output_type": "display_data"
    }
   ],
   "source": [
    "number_clusters = range (1,10)\n",
    "plt.plot(number_clusters, wcss)"
   ]
  },
  {
   "cell_type": "code",
   "execution_count": null,
   "id": "53329c60",
   "metadata": {
    "papermill": {
     "duration": 0.016437,
     "end_time": "2022-05-16T12:40:05.821701",
     "exception": false,
     "start_time": "2022-05-16T12:40:05.805264",
     "status": "completed"
    },
    "tags": []
   },
   "outputs": [],
   "source": []
  }
 ],
 "metadata": {
  "kernelspec": {
   "display_name": "Python 3",
   "language": "python",
   "name": "python3"
  },
  "language_info": {
   "codemirror_mode": {
    "name": "ipython",
    "version": 3
   },
   "file_extension": ".py",
   "mimetype": "text/x-python",
   "name": "python",
   "nbconvert_exporter": "python",
   "pygments_lexer": "ipython3",
   "version": "3.7.12"
  },
  "papermill": {
   "default_parameters": {},
   "duration": 15.486786,
   "end_time": "2022-05-16T12:40:06.659420",
   "environment_variables": {},
   "exception": null,
   "input_path": "__notebook__.ipynb",
   "output_path": "__notebook__.ipynb",
   "parameters": {},
   "start_time": "2022-05-16T12:39:51.172634",
   "version": "2.3.4"
  }
 },
 "nbformat": 4,
 "nbformat_minor": 5
}
